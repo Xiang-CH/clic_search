{
 "cells": [
  {
   "cell_type": "code",
   "execution_count": 1,
   "metadata": {},
   "outputs": [],
   "source": [
    "from bs4 import BeautifulSoup\n",
    "import pandas as pd"
   ]
  },
  {
   "cell_type": "code",
   "execution_count": 2,
   "metadata": {},
   "outputs": [],
   "source": [
    "def analyze_read(html_doc):\n",
    "    soup = BeautifulSoup(html_doc, 'html.parser')\n",
    "    return soup.get_text()"
   ]
  },
  {
   "cell_type": "code",
   "execution_count": 3,
   "metadata": {},
   "outputs": [],
   "source": [
    "df = pd.read_excel(\"CLIC_Content_List.xlsx\", usecols = ['title','full_path','topic','table','content']).dropna()"
   ]
  },
  {
   "cell_type": "code",
   "execution_count": 8,
   "metadata": {},
   "outputs": [
    {
     "data": {
      "text/plain": [
       "array(['landlordTenant', 'defamation', 'insurance', 'personalDataPrivacy',\n",
       "       'intellectualProperty', 'ADR', 'antiDiscrimination', 'bankcruptcy',\n",
       "       'businessAndCommerce', 'civilCase', 'trafficOffences',\n",
       "       'competitionLaw', 'consumerComplaints',\n",
       "       'diyResidentialTenancyAgreement', 'employmentDisputes',\n",
       "       'enduringPowersOfAttorney', 'family', 'freedomOfAssembly',\n",
       "       'hkLegalSystem', 'immigration', 'legalAid',\n",
       "       'maintenanceAndSafetyOfProperty', 'medicalTreatmentConsent',\n",
       "       'medicalNegligence', 'personalInjuries', 'policeAndCrime',\n",
       "       'probate', 'protectionForInvestors', 'redevelopmentAndAcquisition',\n",
       "       'saleAndPurchaseOfProperty', 'sexualOffences', 'taxation'],\n",
       "      dtype=object)"
      ]
     },
     "execution_count": 8,
     "metadata": {},
     "output_type": "execute_result"
    }
   ],
   "source": [
    "topics = df['topic'].unique()\n",
    "topics"
   ]
  },
  {
   "cell_type": "code",
   "execution_count": null,
   "metadata": {},
   "outputs": [],
   "source": [
    "with open (\"TOPICS.txt\", \"w\") as f:\n",
    "    for topic in topics:\n",
    "        f.write(topic + '\\n')"
   ]
  },
  {
   "cell_type": "code",
   "execution_count": 17,
   "metadata": {},
   "outputs": [
    {
     "name": "stdout",
     "output_type": "stream",
     "text": [
      "                                               title  \\\n",
      "0                                        Sub-letting   \n",
      "1                     Repair/maintenance obligations   \n",
      "2  1. In general, who shall be responsible for ma...   \n",
      "3  1. I received a letter from a bank claiming to...   \n",
      "4  Landlord sells the property with existing tenancy   \n",
      "\n",
      "                                           full_path           topic  table  \\\n",
      "0  https://clic.org.hk/en/topics/landlord_tenant/...  landlordTenant    0.0   \n",
      "1  https://clic.org.hk/en/topics/landlord_tenant/...  landlordTenant    0.0   \n",
      "2  https://clic.org.hk/en/topics/landlord_tenant/...  landlordTenant    0.0   \n",
      "3  https://clic.org.hk/en/topics/landlord_tenant/...  landlordTenant    0.0   \n",
      "4  https://clic.org.hk/en/topics/landlord_tenant/...  landlordTenant    0.0   \n",
      "\n",
      "                                             content  \\\n",
      "0  <h2>VI. Sub-letting</h2> <p><strong>The Nature...   \n",
      "1  <h2>VIII. Repair/maintenance obligations</h2> ...   \n",
      "2  <h2>1. In general, who shall be responsible fo...   \n",
      "3  <h2>1. I received a letter from a bank claimin...   \n",
      "4  <h2>X. Landlord sells the property with existi...   \n",
      "\n",
      "                                      parsed_content  \n",
      "0  VI. Sub-letting The Nature of sub-letting and ...  \n",
      "1  VIII. Repair/maintenance obligations Whether o...  \n",
      "2  1. In general, who shall be responsible for ma...  \n",
      "3  1. I received a letter from a bank claiming to...  \n",
      "4  X. Landlord sells the property with existing t...  \n"
     ]
    }
   ],
   "source": [
    "\n",
    "df['parsed_content'] = df['content'].apply(analyze_read)\n",
    "print(df.head())"
   ]
  },
  {
   "cell_type": "code",
   "execution_count": null,
   "metadata": {},
   "outputs": [],
   "source": []
  }
 ],
 "metadata": {
  "kernelspec": {
   "display_name": "base",
   "language": "python",
   "name": "python3"
  },
  "language_info": {
   "codemirror_mode": {
    "name": "ipython",
    "version": 3
   },
   "file_extension": ".py",
   "mimetype": "text/x-python",
   "name": "python",
   "nbconvert_exporter": "python",
   "pygments_lexer": "ipython3",
   "version": "3.9.17"
  },
  "orig_nbformat": 4
 },
 "nbformat": 4,
 "nbformat_minor": 2
}
