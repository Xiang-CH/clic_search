{
 "cells": [
  {
   "cell_type": "code",
   "execution_count": 23,
   "metadata": {},
   "outputs": [],
   "source": [
    "import openai\n",
    "from azure.search.documents.models import QueryType\n",
    "from azure.search.documents import SearchClient\n",
    "from azure.core.credentials import AzureKeyCredential\n",
    "import json"
   ]
  },
  {
   "cell_type": "code",
   "execution_count": null,
   "metadata": {},
   "outputs": [],
   "source": [
    "endpoint = \"\"\n",
    "index_name = \"clic-index\"\n",
    "api_key = \"\"\n",
    "credential = AzureKeyCredential(api_key)\n",
    "search_client = SearchClient(endpoint=endpoint, index_name=index_name, credential=credential)\n",
    "\n",
    "openai.api_type = \"azure\"\n",
    "openai.api_base = \"\"\n",
    "openai.api_version = \"2023-03-15-preview\"\n",
    "openai.api_key = \"\""
   ]
  },
  {
   "cell_type": "code",
   "execution_count": 37,
   "metadata": {},
   "outputs": [],
   "source": [
    "query_text = \"in what circumstances are gender discrimination legal?\""
   ]
  },
  {
   "cell_type": "code",
   "execution_count": 42,
   "metadata": {},
   "outputs": [],
   "source": [
    "query_vector = openai.Embedding.create(engine=\"embedding\", input=query_text)[\"data\"][0][\"embedding\"]\n",
    "r = search_client.search(query_text, \n",
    "                        filter=None,\n",
    "                        query_type=QueryType.SEMANTIC, \n",
    "                        query_language=\"en-us\", \n",
    "                        query_speller=\"lexicon\", \n",
    "                        semantic_configuration_name=\"default\", \n",
    "                        top=5, \n",
    "                        query_caption=\"extractive|highlight-false\",\n",
    "                        vector=query_vector, \n",
    "                        top_k=50,\n",
    "                        vector_fields=\"embedding\")"
   ]
  },
  {
   "cell_type": "code",
   "execution_count": 35,
   "metadata": {},
   "outputs": [],
   "source": [
    "def nonewlines(s: str) -> str:\n",
    "    return s.replace('\\n', ' ').replace('\\r', ' ')"
   ]
  },
  {
   "cell_type": "code",
   "execution_count": 43,
   "metadata": {},
   "outputs": [
    {
     "data": {
      "text/plain": [
       "['1. Can an employer refuse to employ me because of my gender/sex? Under what circumstances can an employer use \"genuine occupational qualification\" as an excuse for sex discrimination?: 1. Can an employer refuse to employ me because of my gender/sex? Under what circumstances can an employer use \"genuine occupational qualification\" as an excuse for sex discrimination?',\n",
       " 'Sex Discrimination: Sex Discrimination',\n",
       " '1. Ms. A works as a sales-coordinator in a food company. A new male colleague reported for duty last week with the job title of \"administration officer\". Ms. A knows that they are both doing administrative work, but with different job titles. The thing she considers unfair is that the salary of that male colleague is higher than hers by $2,000. Is this unlawful under the Sex Discrimination Ordinance?: 1. Ms. A works as a sales-coordinator in a food company. A new male colleague reported for duty last week with the job title of \"administration officer\". Ms. A knows that they are both doing administrative work, but with different job titles. The thing she considers unfair is that the salary of that male colleague is higher than hers by $2,000. Is this unlawful under the Sex Discrimination Ordinance?',\n",
       " \"3. How would a person's age co-relate to sex discrimination? Is it unlawful if different age requirements are applied to males and females when they apply for jobs or obtain goods/services?: 3. How would a person's age co-relate to sex discrimination? Is it unlawful if different age requirements are applied to males and females when they apply for jobs or obtain goods/services?\",\n",
       " '9. Can an educational establishment or a service provider refuse to provide services or facilities to me because of my sex, pregnancy or marital status?: 9. Can an educational establishment or a service provider refuse to provide services or facilities to me because of my sex, pregnancy or marital status?']"
      ]
     },
     "execution_count": 43,
     "metadata": {},
     "output_type": "execute_result"
    }
   ],
   "source": [
    "[doc[\"title\"] + \": \" + nonewlines(doc[\"title\"]) for doc in r]"
   ]
  }
 ],
 "metadata": {
  "kernelspec": {
   "display_name": "base",
   "language": "python",
   "name": "python3"
  },
  "language_info": {
   "codemirror_mode": {
    "name": "ipython",
    "version": 3
   },
   "file_extension": ".py",
   "mimetype": "text/x-python",
   "name": "python",
   "nbconvert_exporter": "python",
   "pygments_lexer": "ipython3",
   "version": "3.9.17"
  },
  "orig_nbformat": 4
 },
 "nbformat": 4,
 "nbformat_minor": 2
}
