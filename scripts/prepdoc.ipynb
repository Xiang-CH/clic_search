{
 "cells": [
  {
   "cell_type": "code",
   "execution_count": 1,
   "metadata": {},
   "outputs": [
    {
     "data": {
      "text/plain": [
       "True"
      ]
     },
     "execution_count": 1,
     "metadata": {},
     "output_type": "execute_result"
    }
   ],
   "source": [
    "import os\n",
    "import requests\n",
    "import pandas as pd\n",
    "\n",
    "from bs4 import BeautifulSoup\n",
    "from openpyxl import load_workbook\n",
    "from markdownify import markdownify\n",
    "from dotenv import load_dotenv\n",
    "\n",
    "load_dotenv()\n"
   ]
  },
  {
   "cell_type": "code",
   "execution_count": 2,
   "metadata": {},
   "outputs": [],
   "source": [
    "CONTENT_URL = os.getenv(\"SHAREPOINT_URL\")\n",
    "FILE_SAVE_PATH = \"data/CLIC-Content.xlsx\"\n",
    "LANGUAGE_CODE = \"EN\"\n",
    "# LANGUAGE_CODE = \"ZH\"\n",
    "\n",
    "COLS = {\n",
    "    \"EN\": [\"nid\", \"Result\", \"Completed\", \"title\", \"full_path\", \"topic\", \"content\"],\n",
    "    \"ZH\": [\"nid\", \"Result\", \"Completed\", \"title\", \"path\", \"topic\", \"new content\"],\n",
    "}\n",
    "COL_NAMES = [\"nid\", \"type\", \"is_complete\", \"title\", \"path\", \"topic_value\", \"content\"]\n",
    "\n",
    "assert CONTENT_URL, \"SHAREPOINT_URL must be set in .env file\"\n",
    "os.makedirs(os.path.dirname(FILE_SAVE_PATH), exist_ok=True)"
   ]
  },
  {
   "cell_type": "markdown",
   "metadata": {},
   "source": [
    "## Read the data"
   ]
  },
  {
   "cell_type": "markdown",
   "metadata": {},
   "source": [
    "#### Download the content from SharePoint"
   ]
  },
  {
   "cell_type": "code",
   "execution_count": 3,
   "metadata": {},
   "outputs": [],
   "source": [
    "url = CONTENT_URL + \"?download=1\"\n",
    "\n",
    "response = requests.get(url, stream=True)\n",
    "total_size_in_bytes = int(response.headers.get(\"content-length\", 0))\n",
    "block_size = 1024\n",
    "with open(FILE_SAVE_PATH, 'wb') as f:\n",
    "    counter = 0\n",
    "    for data in response.iter_content(block_size):\n",
    "        f.write(data)\n",
    "        counter += 1"
   ]
  },
  {
   "cell_type": "markdown",
   "metadata": {},
   "source": [
    "#### Check for removed rows\n",
    "- Indicated by strikethrough formatting"
   ]
  },
  {
   "cell_type": "code",
   "execution_count": 4,
   "metadata": {},
   "outputs": [
    {
     "name": "stdout",
     "output_type": "stream",
     "text": [
      "Rows to remove: {130, 1672, 909, 1040, 2449, 914, 915, 1567, 1185, 2298, 171, 2607, 48, 2608, 2609, 2610, 2611, 2612, 2613, 2614, 1080, 2615, 2616, 2617, 2618, 2619, 838, 455, 458, 603, 1376, 1377, 227, 228, 2275, 614, 870, 872, 745, 1388, 1389, 878, 1390, 1392, 1268, 1397, 1146, 125, 126}\n"
     ]
    }
   ],
   "source": [
    "ws = load_workbook(FILE_SAVE_PATH)[LANGUAGE_CODE]\n",
    "rows_to_remove = set()\n",
    "# Check each cell for strikethrough formatting\n",
    "for row_idx, row in enumerate(ws.iter_rows(min_row=2)):  # Skip header row\n",
    "    for cell in row:\n",
    "        if cell.font and cell.font.strike:\n",
    "            rows_to_remove.add(row_idx)\n",
    "            break\n",
    "print(f\"Rows to remove: {rows_to_remove}\")"
   ]
  },
  {
   "cell_type": "markdown",
   "metadata": {},
   "source": [
    "#### Load Dataframe and clean"
   ]
  },
  {
   "cell_type": "code",
   "execution_count": null,
   "metadata": {},
   "outputs": [
    {
     "data": {
      "text/html": [
       "<div>\n",
       "<style scoped>\n",
       "    .dataframe tbody tr th:only-of-type {\n",
       "        vertical-align: middle;\n",
       "    }\n",
       "\n",
       "    .dataframe tbody tr th {\n",
       "        vertical-align: top;\n",
       "    }\n",
       "\n",
       "    .dataframe thead th {\n",
       "        text-align: right;\n",
       "    }\n",
       "</style>\n",
       "<table border=\"1\" class=\"dataframe\">\n",
       "  <thead>\n",
       "    <tr style=\"text-align: right;\">\n",
       "      <th></th>\n",
       "      <th>nid</th>\n",
       "      <th>type</th>\n",
       "      <th>is_complete</th>\n",
       "      <th>title</th>\n",
       "      <th>path</th>\n",
       "      <th>topic_value</th>\n",
       "      <th>content</th>\n",
       "    </tr>\n",
       "  </thead>\n",
       "  <tbody>\n",
       "    <tr>\n",
       "      <th>0</th>\n",
       "      <td>8</td>\n",
       "      <td>NaN</td>\n",
       "      <td>True</td>\n",
       "      <td>Criminal liability and types of penalties</td>\n",
       "      <td>https://clic.org.hk/en/topics/PoliceAndCrimina...</td>\n",
       "      <td>Police &amp; Criminal Procedure</td>\n",
       "      <td>&lt;h2&gt;I. Criminal liability and types of penalti...</td>\n",
       "    </tr>\n",
       "    <tr>\n",
       "      <th>2</th>\n",
       "      <td>10</td>\n",
       "      <td>NaN</td>\n",
       "      <td>True</td>\n",
       "      <td>Police powers</td>\n",
       "      <td>https://clic.org.hk/en/topics/PoliceAndCrimina...</td>\n",
       "      <td>Police &amp; Criminal Procedure</td>\n",
       "      <td>&lt;h2&gt;III. Police powers&lt;/h2&gt; &lt;p&gt;As an ordinary ...</td>\n",
       "    </tr>\n",
       "    <tr>\n",
       "      <th>10</th>\n",
       "      <td>49</td>\n",
       "      <td>NaN</td>\n",
       "      <td>True</td>\n",
       "      <td>E-package: DIY Residential Tenancy Agreement</td>\n",
       "      <td>https://clic.org.hk/en/topics/DIY_Residential_...</td>\n",
       "      <td>E-package: DIY Residential Tenancy Agreement</td>\n",
       "      <td>&lt;h2&gt;E-package: DIY Residential Tenancy Agreeme...</td>\n",
       "    </tr>\n",
       "  </tbody>\n",
       "</table>\n",
       "</div>"
      ],
      "text/plain": [
       "    nid type  is_complete                                         title  \\\n",
       "0     8  NaN         True     Criminal liability and types of penalties   \n",
       "2    10  NaN         True                                 Police powers   \n",
       "10   49  NaN         True  E-package: DIY Residential Tenancy Agreement   \n",
       "\n",
       "                                                 path  \\\n",
       "0   https://clic.org.hk/en/topics/PoliceAndCrimina...   \n",
       "2   https://clic.org.hk/en/topics/PoliceAndCrimina...   \n",
       "10  https://clic.org.hk/en/topics/DIY_Residential_...   \n",
       "\n",
       "                                     topic_value  \\\n",
       "0                    Police & Criminal Procedure   \n",
       "2                    Police & Criminal Procedure   \n",
       "10  E-package: DIY Residential Tenancy Agreement   \n",
       "\n",
       "                                              content  \n",
       "0   <h2>I. Criminal liability and types of penalti...  \n",
       "2   <h2>III. Police powers</h2> <p>As an ordinary ...  \n",
       "10  <h2>E-package: DIY Residential Tenancy Agreeme...  "
      ]
     },
     "execution_count": 5,
     "metadata": {},
     "output_type": "execute_result"
    }
   ],
   "source": [
    "df = pd.read_excel(FILE_SAVE_PATH, sheet_name=LANGUAGE_CODE, usecols=COLS[LANGUAGE_CODE])\n",
    "df.columns = COL_NAMES\n",
    "df.drop(index=rows_to_remove, inplace=True)\n",
    "df.dropna(subset=[\"title\", \"content\", \"topic_value\"], inplace=True) \n",
    "df.drop(index=df[~df[\"path\"].str.contains(\"topics/\")].index, inplace=True)              # filter out announcement pages\n",
    "df.drop(index=df[df[\"type\"] == \"Index\"].index, inplace=True)                                # filter out index pages\n",
    "df.drop(index=df[df[\"type\"] == \"Delete\"].index, inplace=True)                               # filter out deleted pages\n",
    "df['nid'] = df['nid'].astype(int)                                                     # Convert 'nid' to int\n",
    "df['is_complete'] = df['is_complete'].fillna(0).astype(bool)                    # Convert 'is_complete' to boolean (1.0 -> True, NaN/0.0 -> False)\n",
    "df.head(3)"
   ]
  },
  {
   "cell_type": "code",
   "execution_count": 6,
   "metadata": {},
   "outputs": [
    {
     "name": "stdout",
     "output_type": "stream",
     "text": [
      "<class 'pandas.core.frame.DataFrame'>\n",
      "Index: 2319 entries, 0 to 2606\n",
      "Data columns (total 7 columns):\n",
      " #   Column       Non-Null Count  Dtype \n",
      "---  ------       --------------  ----- \n",
      " 0   nid          2319 non-null   int64 \n",
      " 1   type         90 non-null     object\n",
      " 2   is_complete  2319 non-null   bool  \n",
      " 3   title        2319 non-null   object\n",
      " 4   path         2319 non-null   object\n",
      " 5   topic_value  2319 non-null   object\n",
      " 6   content      2319 non-null   object\n",
      "dtypes: bool(1), int64(1), object(5)\n",
      "memory usage: 129.1+ KB\n"
     ]
    }
   ],
   "source": [
    "df.info()"
   ]
  },
  {
   "cell_type": "markdown",
   "metadata": {},
   "source": [
    "## Extract CLIC pages' topics keys"
   ]
  },
  {
   "cell_type": "code",
   "execution_count": 7,
   "metadata": {},
   "outputs": [
    {
     "data": {
      "text/html": [
       "<div>\n",
       "<style scoped>\n",
       "    .dataframe tbody tr th:only-of-type {\n",
       "        vertical-align: middle;\n",
       "    }\n",
       "\n",
       "    .dataframe tbody tr th {\n",
       "        vertical-align: top;\n",
       "    }\n",
       "\n",
       "    .dataframe thead th {\n",
       "        text-align: right;\n",
       "    }\n",
       "</style>\n",
       "<table border=\"1\" class=\"dataframe\">\n",
       "  <thead>\n",
       "    <tr style=\"text-align: right;\">\n",
       "      <th></th>\n",
       "      <th>nid</th>\n",
       "      <th>type</th>\n",
       "      <th>is_complete</th>\n",
       "      <th>title</th>\n",
       "      <th>path</th>\n",
       "      <th>topic_value</th>\n",
       "      <th>content</th>\n",
       "      <th>topic_key</th>\n",
       "    </tr>\n",
       "  </thead>\n",
       "  <tbody>\n",
       "    <tr>\n",
       "      <th>0</th>\n",
       "      <td>8</td>\n",
       "      <td>NaN</td>\n",
       "      <td>True</td>\n",
       "      <td>Criminal liability and types of penalties</td>\n",
       "      <td>https://clic.org.hk/en/topics/PoliceAndCrimina...</td>\n",
       "      <td>Police &amp; Criminal Procedure</td>\n",
       "      <td>&lt;h2&gt;I. Criminal liability and types of penalti...</td>\n",
       "      <td>PoliceAndCriminalProcedure</td>\n",
       "    </tr>\n",
       "    <tr>\n",
       "      <th>2</th>\n",
       "      <td>10</td>\n",
       "      <td>NaN</td>\n",
       "      <td>True</td>\n",
       "      <td>Police powers</td>\n",
       "      <td>https://clic.org.hk/en/topics/PoliceAndCrimina...</td>\n",
       "      <td>Police &amp; Criminal Procedure</td>\n",
       "      <td>&lt;h2&gt;III. Police powers&lt;/h2&gt; &lt;p&gt;As an ordinary ...</td>\n",
       "      <td>PoliceAndCriminalProcedure</td>\n",
       "    </tr>\n",
       "    <tr>\n",
       "      <th>10</th>\n",
       "      <td>49</td>\n",
       "      <td>NaN</td>\n",
       "      <td>True</td>\n",
       "      <td>E-package: DIY Residential Tenancy Agreement</td>\n",
       "      <td>https://clic.org.hk/en/topics/DIY_Residential_...</td>\n",
       "      <td>E-package: DIY Residential Tenancy Agreement</td>\n",
       "      <td>&lt;h2&gt;E-package: DIY Residential Tenancy Agreeme...</td>\n",
       "      <td>DIY_Residential_Tenancy_Agreement</td>\n",
       "    </tr>\n",
       "  </tbody>\n",
       "</table>\n",
       "</div>"
      ],
      "text/plain": [
       "    nid type  is_complete                                         title  \\\n",
       "0     8  NaN         True     Criminal liability and types of penalties   \n",
       "2    10  NaN         True                                 Police powers   \n",
       "10   49  NaN         True  E-package: DIY Residential Tenancy Agreement   \n",
       "\n",
       "                                                 path  \\\n",
       "0   https://clic.org.hk/en/topics/PoliceAndCrimina...   \n",
       "2   https://clic.org.hk/en/topics/PoliceAndCrimina...   \n",
       "10  https://clic.org.hk/en/topics/DIY_Residential_...   \n",
       "\n",
       "                                     topic_value  \\\n",
       "0                    Police & Criminal Procedure   \n",
       "2                    Police & Criminal Procedure   \n",
       "10  E-package: DIY Residential Tenancy Agreement   \n",
       "\n",
       "                                              content  \\\n",
       "0   <h2>I. Criminal liability and types of penalti...   \n",
       "2   <h2>III. Police powers</h2> <p>As an ordinary ...   \n",
       "10  <h2>E-package: DIY Residential Tenancy Agreeme...   \n",
       "\n",
       "                            topic_key  \n",
       "0          PoliceAndCriminalProcedure  \n",
       "2          PoliceAndCriminalProcedure  \n",
       "10  DIY_Residential_Tenancy_Agreement  "
      ]
     },
     "execution_count": 7,
     "metadata": {},
     "output_type": "execute_result"
    }
   ],
   "source": [
    "def getTopicFromPath(path):\n",
    "    if isinstance(path, str) and 'topics/' in path:\n",
    "        x = path.split('topics/')[1]\n",
    "        return x.split('/')[0] if '/' in x else x\n",
    "    return None\n",
    "\n",
    "df['topic_key'] = df['path'].apply(getTopicFromPath)\n",
    "df.head(3)"
   ]
  },
  {
   "cell_type": "code",
   "execution_count": 8,
   "metadata": {},
   "outputs": [
    {
     "name": "stdout",
     "output_type": "stream",
     "text": [
      "Number of topics in data: 37\n"
     ]
    },
    {
     "data": {
      "text/plain": [
       "array(['PoliceAndCriminalProcedure', 'DIY_Residential_Tenancy_Agreement',\n",
       "       'Redevelopment_and_Acquisition_of_Property',\n",
       "       'saleAndPurchaseOfProperty', 'Competition_Law',\n",
       "       'FreedomOfAssemblyProcessionDemonstration', 'hkLegalSystem', 'ADR',\n",
       "       'civilCase', 'legalAid', 'personalInjuries',\n",
       "       'bankruptcy_IndividualVoluntaryArrangement_Companies_Winding_up',\n",
       "       'familyMatrimonialAndCohabitation', 'enduring_Powers_of_Attorney',\n",
       "       'probate', 'taxation', 'personalDataPrivacy', 'insurance',\n",
       "       'protectionForInvestorsAndStructuredProducts',\n",
       "       'consumer_complaints', 'antiDiscrimination', 'defamation',\n",
       "       'Medical_treatment_consent_and_withdrawal', 'medicalNegligence',\n",
       "       'businessAndCommerce', 'sexual_offences', 'intellectualProperty',\n",
       "       'traffic_law', 'immigration', 'employmentDisputes',\n",
       "       'Maintenance_and_safety_of_property', 'landlord_tenant',\n",
       "       'offences_related_to_dangerous_drugs', 'judicial_review',\n",
       "       'consumerCredit', 'OffencesAgainstThePerson', 'Evidence'],\n",
       "      dtype=object)"
      ]
     },
     "execution_count": 8,
     "metadata": {},
     "output_type": "execute_result"
    }
   ],
   "source": [
    "topics = df['topic_key'].unique()\n",
    "print(f\"Number of topics in data: {len(topics)}\")\n",
    "topics"
   ]
  },
  {
   "cell_type": "markdown",
   "metadata": {},
   "source": [
    "## Title modification"
   ]
  },
  {
   "cell_type": "markdown",
   "metadata": {},
   "source": [
    "#### Remove list index in title"
   ]
  },
  {
   "cell_type": "code",
   "execution_count": 9,
   "metadata": {},
   "outputs": [],
   "source": [
    "separators = [')', '.', '. ']\n",
    "\n",
    "def cleanTitle(title: str) -> str:    \n",
    "    separator = None\n",
    "    for sep in separators:\n",
    "        if sep in title[:5]:\n",
    "            separator = sep\n",
    "            break\n",
    "        \n",
    "    if separator is None:\n",
    "        return title.strip()\n",
    "    \n",
    "    return title.split(separator, 1)[-1].strip()\n",
    "\n",
    "df['title'] = df['title'].apply(cleanTitle)"
   ]
  },
  {
   "cell_type": "markdown",
   "metadata": {},
   "source": [
    "#### Check if title is question"
   ]
  },
  {
   "cell_type": "code",
   "execution_count": 10,
   "metadata": {},
   "outputs": [
    {
     "name": "stdout",
     "output_type": "stream",
     "text": [
      "Number of questions: 1404, out of 2319 total rows.\n"
     ]
    }
   ],
   "source": [
    "df['is_question'] = df['title'].apply(lambda x: x.endswith('?'))\n",
    "\n",
    "is_question_count = len(df[df['is_question'] == True])\n",
    "print(f\"Number of questions: {is_question_count}, out of {len(df)} total rows.\")"
   ]
  },
  {
   "cell_type": "code",
   "execution_count": 11,
   "metadata": {},
   "outputs": [],
   "source": [
    "import re\n",
    "def parseCamel(text):\n",
    "    if len(text) < 5:\n",
    "        return text\n",
    "    # Split on uppercase letters, but not at the start of the string\n",
    "    x = re.split(r'(?<!^)(?=[A-Z])', text)\n",
    "    if len(x) > 1:\n",
    "        if x[0].isnumeric():\n",
    "            x = x[1:]  # If the first part is numeric, skip it\n",
    "        else:\n",
    "            x[0] = x[0][0].upper() + x[0][1:]\n",
    "    return \" \".join(x)\n",
    "\n",
    "def parseSnake(text):\n",
    "    # x = re.sub('(_)([a-zA-Z0-9])', lambda x: ' ' + x.group(2).upper(), text)\n",
    "    x = text.split('_')\n",
    "    if len(x) > 1 and x[0].isnumeric():\n",
    "        x = x[1:]  # If the first part is numeric, skip it\n",
    "    return \" \".join(x)\n",
    "\n",
    "\n",
    "# Example path: https://clic.org.hk/zh/topics/FreedomOfAssemblyProcessionDemonstration/RelatedOffences/Public_Order_Offences/Disorder_in_public_places\n",
    "def getContext(path: str, topic: str) -> str:\n",
    "    ctx = path.split('topics/')[1].split('/')[1:-1]\n",
    "    ctx = [topic] + [parseSnake(x) if '_' in x else parseCamel(x) for x in ctx]\n",
    "    return ' > '.join(ctx)\n",
    "\n",
    "# getContext('https://clic.org.hk/en/topics/ADR/Mediation/relevantPracticeDirections/pd18.1&18.2', 'Freedom Of Assembly Procession Demonstration')\n",
    "df['context'] = df.apply(lambda x: getContext(x['path'], x['topic_value']), axis=1)"
   ]
  },
  {
   "cell_type": "markdown",
   "metadata": {},
   "source": [
    "## Extract Content"
   ]
  },
  {
   "cell_type": "code",
   "execution_count": 12,
   "metadata": {},
   "outputs": [],
   "source": [
    "import re\n",
    "def normalize_newlines(text):\n",
    "    # Replace 2 or more consecutive newlines with exactly two newlines\n",
    "    return re.sub(r'(\\s*\\n\\s*){2,}', '\\n\\n', text)"
   ]
  },
  {
   "cell_type": "markdown",
   "metadata": {},
   "source": [
    "#### Remove header line and convert to markdown"
   ]
  },
  {
   "cell_type": "code",
   "execution_count": 13,
   "metadata": {},
   "outputs": [
    {
     "name": "stdout",
     "output_type": "stream",
     "text": [
      "   nid type  is_complete                                      title  \\\n",
      "0    8  NaN         True  Criminal liability and types of penalties   \n",
      "\n",
      "                                                path  \\\n",
      "0  https://clic.org.hk/en/topics/PoliceAndCrimina...   \n",
      "\n",
      "                   topic_value  \\\n",
      "0  Police & Criminal Procedure   \n",
      "\n",
      "                                             content  \\\n",
      "0  <h2>I. Criminal liability and types of penalti...   \n",
      "\n",
      "                    topic_key  is_question                      context  \\\n",
      "0  PoliceAndCriminalProcedure        False  Police & Criminal Procedure   \n",
      "\n",
      "                                      parsed_content  \n",
      "0  Criminal liability is generally made up of two...  \n"
     ]
    }
   ],
   "source": [
    "content_no_header = df['content'].apply(lambda x: x.split(\"</h2>\", maxsplit=1)[1].strip() if len(x.split(\"</h2>\")) > 1 else x)\n",
    "df['parsed_content'] = content_no_header.apply(lambda x: normalize_newlines(markdownify(x).strip()))\n",
    "print(df.head(1))\n",
    "del content_no_header"
   ]
  },
  {
   "cell_type": "markdown",
   "metadata": {},
   "source": [
    "#### Extract CLIC, legislation and case references"
   ]
  },
  {
   "cell_type": "code",
   "execution_count": 14,
   "metadata": {},
   "outputs": [],
   "source": [
    "df['cases_ref'] = None\n",
    "df['legislation_ref'] = None\n",
    "df['clic_ref'] = None\n",
    "\n",
    "for i, col in df.iterrows():\n",
    "    soup = BeautifulSoup(col[\"content\"], 'html.parser')\n",
    "    cap = []\n",
    "    cases = []\n",
    "    clic = []\n",
    "\n",
    "    links = soup.find_all('a')\n",
    "    for link in links:\n",
    "\n",
    "        if link.has_attr('href') and \"hklii\" in link['href']:\n",
    "            # hklii links can be cases or legislation\n",
    "            url = link['href'].split('?')[0] if \"?\" in link['href'] else link['href']\n",
    "            url = url[:-5] if link['href'].endswith('.html') else url\n",
    "            \n",
    "            if 'cases' in link['href']:\n",
    "                # Parse Cases (https://www.hklii.hk/en/cases/hkca/2020/124 or https://www.hklii.org/cgi-bin/sinodisp/eng/hk/cases/hkcfi/2018/2243.html)\n",
    "                metadata = url.split('/cases')[1].strip().split('/')\n",
    "                if len(metadata) >= 3:\n",
    "                    cases.append({\n",
    "                        'court': metadata[1],\n",
    "                        'year': metadata[2],\n",
    "                        'no': metadata[3]\n",
    "                    })\n",
    "            else:\n",
    "                # Parse Legislation (http://www.hklii.hk/hk/legis/en/ord/344/ or https://www.hklii.org/eng/hk/legis/reg/382A/s12.html or http://www.hklii.hk/eng/hk/legis/instrument/101/)\n",
    "                leg_type = 'ord' if '/ord/' in url else 'reg' if '/reg/' in url else 'instrument' if '/instrument/' in url else None\n",
    "                if leg_type is None: continue\n",
    "\n",
    "                metadata = url.split(f'/{leg_type}/')[1].strip().split('/')\n",
    "                if len(metadata) >= 1:\n",
    "                    cap.append({\n",
    "                        'type': leg_type,\n",
    "                        'no': metadata[0] if leg_type != 'instrument' else f\"A{metadata[0]}\" if metadata[0].isdigit() else metadata[0],\n",
    "                        'section': metadata[1] if len(metadata) > 1 else \"\"\n",
    "                    })\n",
    "        \n",
    "        elif link.has_attr('href') and \"/topics/\" in link['href']:\n",
    "            # References to other pages on the CLIC site\n",
    "            page_path = link['href']\n",
    "            if \"#\" in page_path:\n",
    "                # Remove fragment identifiers (e.g., #section1)\n",
    "                page_path = page_path.split('#')[0]\n",
    "            page_path = page_path.split('/topics/')[1].strip()\n",
    "            if page_path.endswith('/'):\n",
    "                page_path = page_path[:-1]\n",
    "            page_nids = df[df['path'].str.endswith(page_path)]['nid'].values\n",
    "            clic.append({\n",
    "                'nid': page_nids[0] if len(page_nids) > 0 else None,\n",
    "                'path': '/topics/' + page_path.strip(),\n",
    "            })\n",
    "            \n",
    "    df.at[i, 'cases_ref'] = cases\n",
    "    df.at[i, 'legislation_ref'] = cap\n",
    "    df.at[i, 'clic_ref'] = clic"
   ]
  },
  {
   "cell_type": "markdown",
   "metadata": {},
   "source": [
    "#### Count number of tokens in each row"
   ]
  },
  {
   "cell_type": "code",
   "execution_count": 15,
   "metadata": {},
   "outputs": [],
   "source": [
    "import tiktoken\n",
    "enc = tiktoken.get_encoding(\"o200k_base\")\n",
    "df['n_tokens'] = df['parsed_content'].apply(lambda x: len(enc.encode(x)))"
   ]
  },
  {
   "cell_type": "code",
   "execution_count": 16,
   "metadata": {},
   "outputs": [
    {
     "name": "stdout",
     "output_type": "stream",
     "text": [
      "Number of long texts (more than 1024 tokens): 139\n",
      "Number of long texts (more than 512 tokens): 501\n",
      "Number of long texts (more than 256 tokens): 1120\n",
      "Number of short texts (less than 12 tokens): 5\n"
     ]
    }
   ],
   "source": [
    "over_1024_texts = df[df['n_tokens'] > 1024]\n",
    "print(f\"Number of long texts (more than 1024 tokens): {len(over_1024_texts)}\")\n",
    "\n",
    "over_512_texts = df[df['n_tokens'] > 512]\n",
    "print(f\"Number of long texts (more than 512 tokens): {len(over_512_texts)}\")\n",
    "\n",
    "over_256_texts = df[df['n_tokens'] > 256]\n",
    "print(f\"Number of long texts (more than 256 tokens): {len(over_256_texts)}\")\n",
    "\n",
    "under_12_texts = df[df['n_tokens'] < 12]\n",
    "print(f\"Number of short texts (less than 12 tokens): {len(under_12_texts)}\")"
   ]
  },
  {
   "cell_type": "code",
   "execution_count": 17,
   "metadata": {},
   "outputs": [],
   "source": [
    "df['is_noisy'] = df['n_tokens'] < 12"
   ]
  },
  {
   "cell_type": "code",
   "execution_count": 18,
   "metadata": {},
   "outputs": [],
   "source": [
    "df[df['n_tokens'] > 512].to_excel(\"data/CLIC_content_512_tokens.xlsx\", index=False)"
   ]
  },
  {
   "cell_type": "code",
   "execution_count": 19,
   "metadata": {},
   "outputs": [],
   "source": [
    "df.to_excel(\"data/CLIC_content_cleaned.xlsx\", index=False)"
   ]
  }
 ],
 "metadata": {
  "kernelspec": {
   "display_name": "base",
   "language": "python",
   "name": "python3"
  },
  "language_info": {
   "codemirror_mode": {
    "name": "ipython",
    "version": 3
   },
   "file_extension": ".py",
   "mimetype": "text/x-python",
   "name": "python",
   "nbconvert_exporter": "python",
   "pygments_lexer": "ipython3",
   "version": "3.11.5"
  },
  "orig_nbformat": 4
 },
 "nbformat": 4,
 "nbformat_minor": 2
}
